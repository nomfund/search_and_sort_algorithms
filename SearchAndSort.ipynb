{
 "cells": [
  {
   "cell_type": "markdown",
   "metadata": {},
   "source": [
    "# SEARCH AND SORT"
   ]
  },
  {
   "cell_type": "markdown",
   "metadata": {},
   "source": [
    "Sorting refers to arranging data in a particular format. Sorting algorithm specifies the way to arrange data in a particular order. Most common orders are in numerical or lexicographical order.\n",
    "\n",
    "The importance of sorting lies in the fact that data searching can be optimized to a very high level, if data is stored in a sorted manner. Sorting is also used to represent data in more readable formats. Below we see five such implementations of sorting in python.\n",
    "\n",
    "    Bubble Sort\n",
    "    Merge Sort\n",
    "    Insertion Sort\n",
    "    Shell Sort\n",
    "    Selection Sort\n",
    " \n"
   ]
  },
  {
   "cell_type": "code",
   "execution_count": 1,
   "metadata": {},
   "outputs": [],
   "source": [
    "from numpy.random import seed\n",
    "import random\n",
    "seed(31)\n",
    "import time\n",
    "from merge_sort import merge_sort"
   ]
  },
  {
   "cell_type": "markdown",
   "metadata": {},
   "source": [
    "## 1.Use the following sorted list of words to perform a binary search : list[ ] = ['babka','baklava','cheesecake','cupcake','danish','eclair','funnelcake','kringle','lamington','profiterole','sopaipilla','strudel','tiramisu','torte','turnover']"
   ]
  },
  {
   "cell_type": "markdown",
   "metadata": {},
   "source": [
    "## Binary_Search"
   ]
  },
  {
   "cell_type": "markdown",
   "metadata": {},
   "source": [
    "Here the list is divided into halves and then searched in each half. One notable thing about this binary search is that the list should be sorted first before executing the algorithm. The list is divided into two halves by the index, find the mid element of the list and then start to mid-1 is one list and mid+1 to end is another list, check if the element is mid, greater than it or less than it and return the appropriate position of the key element to be found."
   ]
  },
  {
   "cell_type": "code",
   "execution_count": 32,
   "metadata": {},
   "outputs": [],
   "source": [
    "def binarySearch(alist, item):\n",
    "    first = 0\n",
    "    last = len(alist)-1\n",
    "    found = False\n",
    "\n",
    "    while first<=last and not found:\n",
    "        midpoint = (first + last)//2\n",
    "        print(alist[midpoint] + \" - \", \"index: \" + str(midpoint))\n",
    "        if alist[midpoint] == item:\n",
    "            found = True\n",
    "        else:\n",
    "            if item < alist[midpoint]:\n",
    "                last = midpoint-1\n",
    "            else:\n",
    "                first = midpoint+1\n",
    "\n",
    "    return found"
   ]
  },
  {
   "cell_type": "markdown",
   "metadata": {},
   "source": [
    "### a)  What sequence of 'middle' values are compared to the target when performing a binary search with target doughnut?"
   ]
  },
  {
   "cell_type": "code",
   "execution_count": 33,
   "metadata": {},
   "outputs": [
    {
     "name": "stdout",
     "output_type": "stream",
     "text": [
      "kringle -  index: 7\n",
      "cupcake -  index: 3\n",
      "eclair -  index: 5\n",
      "danish -  index: 4\n"
     ]
    },
    {
     "data": {
      "text/plain": [
       "False"
      ]
     },
     "execution_count": 33,
     "metadata": {},
     "output_type": "execute_result"
    }
   ],
   "source": [
    "binarySearch(['babka','baklava','cheesecake','cupcake','danish','eclair','funnelcake','kringle','lamington','profiterole','sopaipilla','strudel','tiramisu','torte','turnover'],'doughnut')"
   ]
  },
  {
   "cell_type": "markdown",
   "metadata": {},
   "source": [
    "returned false one because doughnut is not in the list"
   ]
  },
  {
   "cell_type": "markdown",
   "metadata": {},
   "source": [
    "### b)  What sequence of 'middle' values are compared to the target when performing a binary search with target tiramisu?"
   ]
  },
  {
   "cell_type": "code",
   "execution_count": 34,
   "metadata": {},
   "outputs": [
    {
     "name": "stdout",
     "output_type": "stream",
     "text": [
      "kringle -  index: 7\n",
      "strudel -  index: 11\n",
      "torte -  index: 13\n",
      "tiramisu -  index: 12\n"
     ]
    },
    {
     "data": {
      "text/plain": [
       "True"
      ]
     },
     "execution_count": 34,
     "metadata": {},
     "output_type": "execute_result"
    }
   ],
   "source": [
    "binarySearch(['babka','baklava','cheesecake','cupcake','danish','eclair','funnelcake','kringle','lamington','profiterole','sopaipilla','strudel','tiramisu','torte','turnover'],'tiramisu')"
   ]
  },
  {
   "cell_type": "markdown",
   "metadata": {},
   "source": [
    "returned true because tiramisu is in the list"
   ]
  },
  {
   "cell_type": "markdown",
   "metadata": {},
   "source": [
    "# Bubble Sort algorithm "
   ]
  },
  {
   "cell_type": "markdown",
   "metadata": {},
   "source": [
    "### Bubble Sort – Explanation\n",
    "\n",
    "In the first “pass” through the array, the largest element will always get swapped until it is placed to the extreme right. This is because this largest element will always break the desired order. So, at the end of the first pass, the largest element will always reach its correct position."
   ]
  },
  {
   "cell_type": "markdown",
   "metadata": {},
   "source": [
    "## a)show the series of steps taken by the Bubble Sort algorithm while sorting the list [9,20,6,10,14,8,60,11]. "
   ]
  },
  {
   "cell_type": "code",
   "execution_count": 5,
   "metadata": {},
   "outputs": [],
   "source": [
    "def bubbleSort(arr):\n",
    "    n = len(arr)\n",
    " \n",
    "    # Traverse through all array elements\n",
    "    for i in range(n):\n",
    " \n",
    "        # Last i elements are already in place\n",
    "        for j in range(0, n-i-1):\n",
    " \n",
    "            # traverse the array from 0 to n-i-1\n",
    "            # Swap if the element found is greater\n",
    "            # than the next element\n",
    "            if arr[j] > arr[j+1] :\n",
    "                arr[j], arr[j+1] = arr[j+1], arr[j]"
   ]
  },
  {
   "cell_type": "code",
   "execution_count": 6,
   "metadata": {},
   "outputs": [
    {
     "name": "stdout",
     "output_type": "stream",
     "text": [
      "Sorted array is:\n",
      "6\n",
      "8\n",
      "9\n",
      "10\n",
      "11\n",
      "14\n",
      "20\n",
      "60\n"
     ]
    }
   ],
   "source": [
    "# Driver code to test above\n",
    "arr = [9, 20, 6, 10, 14, 8, 60, 11]\n",
    " \n",
    "bubbleSort(arr)\n",
    " \n",
    "print (\"Sorted array is:\")\n",
    "for i in range(len(arr)):\n",
    "    print (\"%d\" %arr[i]), "
   ]
  },
  {
   "cell_type": "markdown",
   "metadata": {},
   "source": [
    "#### list = [9,20,6,10,14,8,60,11]"
   ]
  },
  {
   "cell_type": "markdown",
   "metadata": {},
   "source": [
    "We can see that 20 should not be on the left of 10. We swap 20 and 6 to get:\n",
    "\n",
    "\n",
    "#### [9, 6, 20, 10, 14, 8, 60, 11] \n",
    "\n",
    "\n",
    "We see that 20 should not be on the left of 14. We swap 20 and 10 to get\n",
    "\n",
    "\n",
    "#### [9, 6, 10, 20, 14, 8, 60, 11] \n",
    "\n",
    "\n",
    "We can see that 20 should again not be on the left of 8. We swap 20 and 14 to get:\n",
    "\n",
    "\n",
    "#### [9, 6, 10, 14, 20, 8, 60, 11] \n",
    "\n",
    "\n",
    "20 should not be on the left of 8. Swap 20 and 8 gives:\n",
    "\n",
    "\n",
    "#### [9, 6, 10, 14, 8, 20, 60, 11] \n",
    "\n",
    "\n",
    "60 should not be on the left of 11. Swapping 60 and 11 gives\n",
    "\n",
    "\n",
    "#### [9, 6, 10, 14, 8, 20, 11, 60] \n",
    "\n",
    "\n",
    "As can be seen-the largest element (60 in this case) has reached its correct position-extreme right.Now we have to repeat the process,(9,6)is incorrect therefore we swap 6 and 9 to get:\n",
    "\n",
    "\n",
    "#### [6, 9, 10, 14, 8, 20, 11, 60] \n",
    "\n",
    "\n",
    "14 should not be on the left of 8. Swapping 14 and 8 gives:\n",
    "\n",
    "\n",
    "#### [6, 9, 10, 8, 14, 20, 11, 60] \n",
    "\n",
    "14 should not be on the left of 11. Swapping 11 and 14 gives:\n",
    "\n",
    "\n",
    "#### [6, 9, 10, 8, 14, 11, 20, 60] \n",
    "\n",
    "\n",
    "10 should not be on the left of 8. Swapping 10 and 8 gives:\n",
    "\n",
    "\n",
    "#### [6, 9, 8, 10, 11, 14, 20, 60] \n",
    "\n",
    "\n",
    "8 should not be on the left of 9. swapping 8 and 9 gives:\n",
    "\n",
    "\n",
    "#### [6, 8, 9, 10, 11, 14, 20, 60] \n",
    "\n",
    "\n",
    "sorted list = \n",
    "#### [6, 8, 9, 10, 11, 14, 20, 60]"
   ]
  },
  {
   "cell_type": "markdown",
   "metadata": {},
   "source": [
    "Bubble Sort is a sorting algorithm where we repeatedly iterate through the list and swap adjacent elements that are unordered. We repeat this until the list is sorted."
   ]
  },
  {
   "cell_type": "markdown",
   "metadata": {},
   "source": [
    "## b)show the series of steps taken by the Selection Sort algorithm while sorting this list."
   ]
  },
  {
   "cell_type": "code",
   "execution_count": 7,
   "metadata": {},
   "outputs": [
    {
     "name": "stdout",
     "output_type": "stream",
     "text": [
      "[6, 8, 9, 10, 11, 14, 20, 60]\n"
     ]
    }
   ],
   "source": [
    "def selectionSort(alist):\n",
    "\n",
    "   for i in range(len(alist)):\n",
    "\n",
    "      # Find the minimum element in remaining\n",
    "       minPosition = i\n",
    "\n",
    "       for j in range(i+1, len(alist)):\n",
    "           if alist[minPosition] > alist[j]:\n",
    "               minPosition = j\n",
    "                \n",
    "       # Swap the found minimum element with minPosition       \n",
    "       temp = alist[i]\n",
    "       alist[i] = alist[minPosition]\n",
    "       alist[minPosition] = temp\n",
    "\n",
    "   return alist\n",
    "\n",
    "print(selectionSort([9,6,20,10,14,8,60,11] ))"
   ]
  },
  {
   "cell_type": "markdown",
   "metadata": {},
   "source": [
    "### Selection Sort:\n",
    "\n",
    "Selection Sort is about picking/selecting the smallest element from the list and placing it in the sorted portion of the list. Initially, the first element is considered the minimum and compared with other elements. During these comparisons, if a smaller element is found then that is considered the new minimum. After completion of one full round, the smallest element found is swapped with the first element. This process continues till all the elements are sorted\n",
    "\n",
    "Below I apply the steps of Selection Sort:"
   ]
  },
  {
   "cell_type": "markdown",
   "metadata": {},
   "source": [
    "### list = [9,20,6,10,14,8,60,11]"
   ]
  },
  {
   "cell_type": "markdown",
   "metadata": {},
   "source": [
    "Find the minimum element in list[0...7]\n",
    "\n",
    "and place it at beginning\n"
   ]
  },
  {
   "cell_type": "markdown",
   "metadata": {},
   "source": [
    "### [6,9,20,10,14,8,60,11]"
   ]
  },
  {
   "cell_type": "markdown",
   "metadata": {},
   "source": [
    "Find the minimum element in list[1...7]\n",
    "\n",
    "and place it at beginning of list[1...7]\n"
   ]
  },
  {
   "cell_type": "markdown",
   "metadata": {},
   "source": [
    "### [6,8,9,20,10,14,60,11]"
   ]
  },
  {
   "cell_type": "markdown",
   "metadata": {},
   "source": [
    "Find the minimum element in list[2...7]\n",
    "\n",
    "and place it at beginning of list[2...7]"
   ]
  },
  {
   "cell_type": "markdown",
   "metadata": {},
   "source": [
    "### [6,8,9,10,20,14,60,11]"
   ]
  },
  {
   "cell_type": "markdown",
   "metadata": {},
   "source": [
    "Find the minimum element in list[3...7]\n",
    "\n",
    "and place it at beginning of list[3...7]"
   ]
  },
  {
   "cell_type": "markdown",
   "metadata": {},
   "source": [
    "### [6,8,9,10,11,20,14,60]"
   ]
  },
  {
   "cell_type": "markdown",
   "metadata": {},
   "source": [
    "Find the minimum element in list[4...7]\n",
    "\n",
    "and place it at beginning of list[4...7]"
   ]
  },
  {
   "cell_type": "markdown",
   "metadata": {},
   "source": [
    "### [6,8,9,10,11,14,20,60]"
   ]
  },
  {
   "cell_type": "markdown",
   "metadata": {},
   "source": [
    "# The three search algorithms have varying run times, with the unsorted sequential search being the least efficient and the binary search being the most efficient (among the three).\n",
    "\n",
    "a) Modify the code for the seq_search.py (for unsorted lists), seq_search_ordered.py and binary_search.py to count the number of elements checked during the search. b) Using your instrumented code for the three search algorithms, perform the following searches, and report the number of elements checked by each algorithm for each search (i.e. you will report nine results in total - for each of the 3 searches below, you will report the results from the 3 different search algorithms)."
   ]
  },
  {
   "cell_type": "markdown",
   "metadata": {},
   "source": [
    "## Improved Linear_search"
   ]
  },
  {
   "cell_type": "code",
   "execution_count": 8,
   "metadata": {},
   "outputs": [
    {
     "name": "stdout",
     "output_type": "stream",
     "text": [
      "17 elements checked\n",
      "True\n"
     ]
    }
   ],
   "source": [
    "def linear_search(values, search_for):\n",
    "    search_at = 0\n",
    "    search_res = False\n",
    "    count = 0\n",
    "\n",
    "# Match the value with each data element\n",
    "    while search_at < len(values) and search_res is False:\n",
    "        if values[search_at] == search_for:\n",
    "            search_res = True\n",
    "        else:\n",
    "            search_at = search_at + 1\n",
    "        count += 1\n",
    "    print(count , \"elements checked\")\n",
    "\n",
    "    return search_res\n",
    "list = [6, 19, -3, 5, 12, 7, 21, -8, 25, 10, 0, 28, -6, 1, 33, 18, 9, 2, -13, 43]\n",
    "print(linear_search(list, 9)) #should return True\n"
   ]
  },
  {
   "cell_type": "code",
   "execution_count": 9,
   "metadata": {},
   "outputs": [],
   "source": [
    "list = [6, 19, -3, 5, 12, 7, 21, -8, 25, 10, 0, 28, -6, 1, 33, 18, 9, 2, -13, 43]"
   ]
  },
  {
   "cell_type": "code",
   "execution_count": 10,
   "metadata": {},
   "outputs": [
    {
     "name": "stdout",
     "output_type": "stream",
     "text": [
      "20 elements checked\n",
      "False\n"
     ]
    }
   ],
   "source": [
    "print(linear_search(list, 11)) #should return False"
   ]
  },
  {
   "cell_type": "code",
   "execution_count": 11,
   "metadata": {},
   "outputs": [],
   "source": [
    "a = [6, 19, -3, 5, 12, 7, 21, -8, 25, 10, 0, 28, -6, 1, 33, 18, 9, 2, -13, 43, -15, 4, 22, 38, -5, 13, 23, -11, 29, -20, 41, 31, -23, 35, 40, 14, 8, -18, 16, 36]"
   ]
  },
  {
   "cell_type": "code",
   "execution_count": 12,
   "metadata": {},
   "outputs": [
    {
     "name": "stdout",
     "output_type": "stream",
     "text": [
      "40 elements checked\n",
      "False\n"
     ]
    }
   ],
   "source": [
    "print(linear_search(a, 11)) #should return False"
   ]
  },
  {
   "cell_type": "markdown",
   "metadata": {},
   "source": [
    "## Improved SeqentialSearch"
   ]
  },
  {
   "cell_type": "code",
   "execution_count": 13,
   "metadata": {},
   "outputs": [
    {
     "name": "stdout",
     "output_type": "stream",
     "text": [
      "17 elements checked\n",
      "True\n"
     ]
    }
   ],
   "source": [
    "def orderedSequentialSearch(alist, item):\n",
    "    pos = 0\n",
    "    found = False\n",
    "    stop = False\n",
    "    count = 0\n",
    "\n",
    "    while pos < len(alist) and not found and not stop:\n",
    "        if alist[pos] == item:\n",
    "            found = True\n",
    "        else:\n",
    "            if alist[pos] > item:\n",
    "                stop = True\n",
    "            else:\n",
    "                pos = pos+1\n",
    "        count += 1\n",
    "    print(count , \"elements checked\")\n",
    "    return found\n",
    "\n",
    "list = [6, 19, -3, 5, 12, 7, 21, -8, 25, 10, 0, 28, -6, 1, 33, 18, 9, 2, -13, 43]\n",
    "print(linear_search(list, 9)) #should return True"
   ]
  },
  {
   "cell_type": "code",
   "execution_count": 14,
   "metadata": {},
   "outputs": [
    {
     "name": "stdout",
     "output_type": "stream",
     "text": [
      "2 elements checked\n",
      "False\n"
     ]
    }
   ],
   "source": [
    "list = [6, 19, -3, 5, 12, 7, 21, -8, 25, 10, 0, 28, -6, 1, 33, 18, 9, 2, -13, 43]\n",
    "print(orderedSequentialSearch(list, 11)) #should return False"
   ]
  },
  {
   "cell_type": "code",
   "execution_count": 15,
   "metadata": {},
   "outputs": [
    {
     "name": "stdout",
     "output_type": "stream",
     "text": [
      "2 elements checked\n",
      "False\n"
     ]
    }
   ],
   "source": [
    "a =[6, 19, -3, 5, 12, 7, 21, -8, 25, 10, 0, 28, -6, 1, 33, 18, 9, 2, -13, 43, -15, 4, 22, 38, -5, 13, 23, -11, 29, -20, 41, 31, -23, 35, 40, 14, 8, -18, 16, 36]\n",
    "print(orderedSequentialSearch(list, 11)) #should return False"
   ]
  },
  {
   "cell_type": "markdown",
   "metadata": {},
   "source": [
    "### Improved binary search"
   ]
  },
  {
   "cell_type": "code",
   "execution_count": 16,
   "metadata": {},
   "outputs": [
    {
     "name": "stdout",
     "output_type": "stream",
     "text": [
      "4 elements checked\n",
      "Not in list\n"
     ]
    }
   ],
   "source": [
    "def bsearch(list, val):\n",
    "\n",
    "    list_size = len(list) - 1\n",
    "\n",
    "    idx0 = 0\n",
    "    idxn = list_size\n",
    "    count = 0\n",
    "# Find the middle most value\n",
    "\n",
    "    while idx0 <= idxn:\n",
    "        midval = (idx0 + idxn)// 2\n",
    "\n",
    "        if list[midval] == val:\n",
    "            return midval\n",
    "\n",
    "# Compare the value the middle most value\n",
    "        if val > list[midval]:\n",
    "            idx0 = midval + 1\n",
    "        else:\n",
    "            idxn = midval - 1\n",
    "        count += 1\n",
    "    print(count , \"elements checked\")\n",
    "\n",
    "    if idx0 > idxn:\n",
    "        return \"Not in list\"\n",
    "\n",
    "\n",
    "\n",
    "list = [6, 19, -3, 5, 12, 7, 21, -8, 25, 10, 0, 28, -6, 1, 33, 18, 9, 2, -13, 43]\n",
    "print(bsearch(list, 9)) "
   ]
  },
  {
   "cell_type": "code",
   "execution_count": 17,
   "metadata": {},
   "outputs": [
    {
     "name": "stdout",
     "output_type": "stream",
     "text": [
      "4 elements checked\n",
      "Not in list\n"
     ]
    }
   ],
   "source": [
    "list = [6, 19, -3, 5, 12, 7, 21, -8, 25, 10, 0, 28, -6, 1, 33, 18, 9, 2, -13, 43]\n",
    "print(bsearch(list, 11))"
   ]
  },
  {
   "cell_type": "code",
   "execution_count": 18,
   "metadata": {},
   "outputs": [
    {
     "name": "stdout",
     "output_type": "stream",
     "text": [
      "4 elements checked\n",
      "Not in list\n"
     ]
    }
   ],
   "source": [
    "a =[6, 19, -3, 5, 12, 7, 21, -8, 25, 10, 0, 28, -6, 1, 33, 18, 9, 2, -13, 43, -15, 4, 22, 38, -5, 13, 23, -11, 29, -20, 41, 31, -23, 35, 40, 14, 8, -18, 16, 36]\n",
    "print(bsearch(list, 11))"
   ]
  },
  {
   "cell_type": "markdown",
   "metadata": {},
   "source": [
    "## Using a random number generator, create a list of 50 integers and a list of 1000 integers. Perform a benchmark analysis using merge sort, quick sort, bubble sort and selection sort (algorithm are given) on each of the lists. For each list, what is the difference in execution speed between the different sorting techniques?"
   ]
  },
  {
   "cell_type": "markdown",
   "metadata": {},
   "source": [
    "# mergesort benchmark"
   ]
  },
  {
   "cell_type": "markdown",
   "metadata": {},
   "source": [
    "Merge Sort :-In    this    sorting    technique,    list    will    be partitioned  in  sub  arrays  and  then  they  will  be merge  in  sorted order  with  the  help  of  an  additional  array  which  is  the  only disadvantage"
   ]
  },
  {
   "cell_type": "code",
   "execution_count": 19,
   "metadata": {},
   "outputs": [],
   "source": [
    "fifty_int = random.sample(range(100), 50)\n",
    "thousand_int = random.sample(range(1000), 1000)"
   ]
  },
  {
   "cell_type": "code",
   "execution_count": 20,
   "metadata": {},
   "outputs": [
    {
     "name": "stdout",
     "output_type": "stream",
     "text": [
      "50 intergers =  0.0005197525024414062\n",
      "1000 intergers =  0.013106107711791992\n"
     ]
    }
   ],
   "source": [
    "\n",
    "start = time.time()\n",
    "merge_sort(fifty_int)\n",
    "end = time.time()\n",
    "total_time = end - start\n",
    "print(\"50 intergers = \", total_time)\n",
    "\n",
    "start = time.time()\n",
    "merge_sort(thousand_int)\n",
    "end = time.time()\n",
    "total_time = end - start\n",
    "\n",
    "print(\"1000 intergers = \", total_time)"
   ]
  },
  {
   "cell_type": "markdown",
   "metadata": {},
   "source": [
    "# quicksort benchmark"
   ]
  },
  {
   "cell_type": "markdown",
   "metadata": {},
   "source": [
    "Quick Sort: -It is based upon divide & conquers strategy. In this technique, we consider first element of array or sub-array as pivot  element  and  provides  its  position  in  list  to  it  and  that position divides the list into parts."
   ]
  },
  {
   "cell_type": "code",
   "execution_count": 21,
   "metadata": {},
   "outputs": [
    {
     "name": "stdout",
     "output_type": "stream",
     "text": [
      "50 intergers =  0.000522613525390625\n",
      "1000 intergers =  0.013237476348876953\n"
     ]
    }
   ],
   "source": [
    "\n",
    "start = time.time()\n",
    "merge_sort(fifty_int)\n",
    "end = time.time()\n",
    "total_time = end - start\n",
    "print(\"50 intergers = \", total_time)\n",
    "\n",
    "start = time.time()\n",
    "merge_sort(thousand_int)\n",
    "end = time.time()\n",
    "total_time = end - start\n",
    "\n",
    "print(\"1000 intergers = \", total_time)"
   ]
  },
  {
   "cell_type": "markdown",
   "metadata": {},
   "source": [
    "# bubblesort benchmark"
   ]
  },
  {
   "cell_type": "markdown",
   "metadata": {},
   "source": [
    ".Bubble Sort: -It  is  also  called  as  exchange  sort.  The  sorting technique   makes   comparison between   pair   of   consecutive element from beginning to end of list. After comparison, bigger element  moves  towards  end.  In  this  way,  the  biggest  element comes at end and process repeats for (n-1) elements. It needs an extra  variable  to  store  data  while  swapping  which  increases space complexity by 1"
   ]
  },
  {
   "cell_type": "code",
   "execution_count": 22,
   "metadata": {},
   "outputs": [
    {
     "name": "stdout",
     "output_type": "stream",
     "text": [
      "50 intergers =  0.0004825592041015625\n",
      "1000 intergers =  0.13558411598205566\n"
     ]
    }
   ],
   "source": [
    "\n",
    "start = time.time()\n",
    "bubbleSort(fifty_int)\n",
    "end = time.time()\n",
    "total_time = end - start\n",
    "print(\"50 intergers = \", total_time)\n",
    "\n",
    "start = time.time()\n",
    "bubbleSort(thousand_int)\n",
    "end = time.time()\n",
    "total_time = end - start\n",
    "\n",
    "print(\"1000 intergers = \", total_time)"
   ]
  },
  {
   "cell_type": "markdown",
   "metadata": {},
   "source": [
    "# selectionsort benchmark"
   ]
  },
  {
   "cell_type": "markdown",
   "metadata": {},
   "source": [
    "Selection   Sorting:-In   selection   sort   we   find   the   smallest number and place it at first position, then at second and so on"
   ]
  },
  {
   "cell_type": "code",
   "execution_count": 23,
   "metadata": {},
   "outputs": [
    {
     "name": "stdout",
     "output_type": "stream",
     "text": [
      "50 intergers =  0.0002384185791015625\n",
      "1000 intergers =  0.05965757369995117\n"
     ]
    }
   ],
   "source": [
    "\n",
    "start = time.time()\n",
    "selectionSort(fifty_int)\n",
    "end = time.time()\n",
    "total_time = end - start\n",
    "print(\"50 intergers = \", total_time)\n",
    "\n",
    "start = time.time()\n",
    "selectionSort(thousand_int)\n",
    "end = time.time()\n",
    "total_time = end - start\n",
    "\n",
    "print(\"1000 intergers = \", total_time)"
   ]
  },
  {
   "cell_type": "markdown",
   "metadata": {
    "collapsed": true
   },
   "source": [
    "# conclusion\n",
    "Different  sorting  techniques  have  different  uses  according  to their behaviourfor  different  inputs,  every  sorting  technique  has its  own  best  case  and  worst  case  according  to  inputs.  Selection sort is useful where swapping is costly. Normally, Insertion sort is  use  for  small  data  sets.  For  large  data  sets,  Merge  sort  and Quick  sort  are  useful."
   ]
  },
  {
   "cell_type": "markdown",
   "metadata": {},
   "source": [
    "Bubble Sort is the slowest the worst performer of all the algorithms. While it useful as an introduction to sorting and algorithms, it's not fit for practical use.\n",
    "\n",
    "Quick Sort is very fast, nearly twice as fast as Merge Sort and it wouldn't need as much space to run. \n",
    "\n",
    "As Insertion Sort performs much less comparisons than Selection Sort\n",
    "\n",
    "Insertion Sorts does much more swaps than Selection Sort. "
   ]
  },
  {
   "cell_type": "code",
   "execution_count": null,
   "metadata": {},
   "outputs": [],
   "source": []
  }
 ],
 "metadata": {
  "kernelspec": {
   "display_name": "Python 3",
   "language": "python",
   "name": "python3"
  },
  "language_info": {
   "codemirror_mode": {
    "name": "ipython",
    "version": 3
   },
   "file_extension": ".py",
   "mimetype": "text/x-python",
   "name": "python",
   "nbconvert_exporter": "python",
   "pygments_lexer": "ipython3",
   "version": "3.6.8"
  }
 },
 "nbformat": 4,
 "nbformat_minor": 2
}
