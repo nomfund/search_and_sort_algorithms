{
 "cells": [
  {
   "cell_type": "markdown",
   "metadata": {},
   "source": [
    "## 1.Use the following sorted list of words to perform a binary search : list[ ] = ['babka','baklava','cheesecake','cupcake','danish','eclair','funnelcake','kringle','lamington','profiterole','sopaipilla','strudel','tiramisu','torte','turnover']"
   ]
  },
  {
   "cell_type": "code",
   "execution_count": 10,
   "metadata": {
    "collapsed": true
   },
   "outputs": [],
   "source": [
    "def binary_search(data, target):\n",
    "\n",
    "    items_length = len(data)\n",
    "    middle = int(items_length/2)\n",
    "    sample = data[middle]\n",
    "\n",
    "    if items_length == 1:\n",
    "        return -1\n",
    "\n",
    "    if sample == target:\n",
    "        return True\n",
    "\n",
    "    if target < sample:\n",
    "        return binary_search(data[:middle], target)\n",
    "    if target > sample:\n",
    "        return binary_search(data[middle:], target)\n",
    "\n",
    "    return -1"
   ]
  },
  {
   "cell_type": "code",
   "execution_count": 11,
   "metadata": {},
   "outputs": [
    {
     "data": {
      "text/plain": [
       "-1"
      ]
     },
     "execution_count": 11,
     "metadata": {},
     "output_type": "execute_result"
    }
   ],
   "source": [
    "binary_search(['babka','baklava','cheesecake','cupcake','danish','eclair','funnelcake','kringle','lamington','profiterole','sopaipilla','strudel','tiramisu','torte','turnover'],'doughnut')"
   ]
  },
  {
   "cell_type": "code",
   "execution_count": 12,
   "metadata": {},
   "outputs": [
    {
     "data": {
      "text/plain": [
       "True"
      ]
     },
     "execution_count": 12,
     "metadata": {},
     "output_type": "execute_result"
    }
   ],
   "source": [
    "binary_search(['babka','baklava','cheesecake','cupcake','danish','eclair','funnelcake','kringle','lamington','profiterole','sopaipilla','strudel','tiramisu','torte','turnover'],'tiramisu')"
   ]
  },
  {
   "cell_type": "markdown",
   "metadata": {},
   "source": [
    "# Bubble Sort algorithm "
   ]
  },
  {
   "cell_type": "markdown",
   "metadata": {},
   "source": [
    "## a)show the series of steps taken by the Bubble Sort algorithm while sorting the list [9,20,6,10,14,8,60,11]. "
   ]
  },
  {
   "cell_type": "code",
   "execution_count": 6,
   "metadata": {
    "collapsed": true
   },
   "outputs": [],
   "source": [
    "def bubbleSort(arr):\n",
    "    n = len(arr)\n",
    " \n",
    "    # Traverse through all array elements\n",
    "    for i in range(n):\n",
    " \n",
    "        # Last i elements are already in place\n",
    "        for j in range(0, n-i-1):\n",
    " \n",
    "            # traverse the array from 0 to n-i-1\n",
    "            # Swap if the element found is greater\n",
    "            # than the next element\n",
    "            if arr[j] > arr[j+1] :\n",
    "                arr[j], arr[j+1] = arr[j+1], arr[j]"
   ]
  },
  {
   "cell_type": "code",
   "execution_count": 7,
   "metadata": {},
   "outputs": [
    {
     "name": "stdout",
     "output_type": "stream",
     "text": [
      "Sorted array is:\n",
      "6\n",
      "8\n",
      "9\n",
      "10\n",
      "11\n",
      "14\n",
      "20\n",
      "60\n"
     ]
    }
   ],
   "source": [
    "# Driver code to test above\n",
    "arr = [9, 20, 6, 10, 14, 8, 60, 11]\n",
    " \n",
    "bubbleSort(arr)\n",
    " \n",
    "print (\"Sorted array is:\")\n",
    "for i in range(len(arr)):\n",
    "    print (\"%d\" %arr[i]), "
   ]
  },
  {
   "cell_type": "markdown",
   "metadata": {},
   "source": [
    "##### list = [9,20,6,10,14,8,60,11]"
   ]
  },
  {
   "cell_type": "markdown",
   "metadata": {},
   "source": [
    "Bubble Sort is a sorting algorithm where we repeatedly iterate through the list and swap adjacent elements that are unordered. We repeat this until the list is sorted."
   ]
  },
  {
   "cell_type": "markdown",
   "metadata": {},
   "source": [
    "FIRST PASS\n",
    "\n",
    "--------------------------------->"
   ]
  },
  {
   "cell_type": "markdown",
   "metadata": {},
   "source": [
    "We can see that 20 should not be on the left of 6. We swap 20 and 6 to get:"
   ]
  },
  {
   "cell_type": "markdown",
   "metadata": {},
   "source": [
    "[9,6,20,10,14,8,60,11] -> EXCHANGE"
   ]
  },
  {
   "cell_type": "markdown",
   "metadata": {},
   "source": [
    "We see that 20 should not be on the left of 10. We swap 20 and 10 to get:"
   ]
  },
  {
   "cell_type": "markdown",
   "metadata": {},
   "source": [
    "\n",
    "[9,6,10,20,14,8,60,11] \n"
   ]
  },
  {
   "cell_type": "markdown",
   "metadata": {},
   "source": [
    "We can see that 20 should again not be on the left of 14. We swap 20 and 14 to get:"
   ]
  },
  {
   "cell_type": "markdown",
   "metadata": {},
   "source": [
    "\n",
    "[9,6,10,14,20,8,60,11]\n"
   ]
  },
  {
   "cell_type": "markdown",
   "metadata": {},
   "source": [
    "20 should not be on the left of 8. Swap 20 and 8 gives:"
   ]
  },
  {
   "cell_type": "markdown",
   "metadata": {},
   "source": [
    "\n",
    "[9,6,10,14,8,20,60,11]"
   ]
  },
  {
   "cell_type": "markdown",
   "metadata": {},
   "source": [
    "60 should not be on the left of 11. Swapping 60 and 11 gives:"
   ]
  },
  {
   "cell_type": "markdown",
   "metadata": {},
   "source": [
    "[9,6,10,14,8,20,11,60]"
   ]
  },
  {
   "cell_type": "markdown",
   "metadata": {},
   "source": [
    "As can be seen-the largest element (60 in this case) has reached its correct position-extreme right."
   ]
  },
  {
   "cell_type": "markdown",
   "metadata": {},
   "source": [
    "\n",
    "[9,6,10,14,8,11,20,60]\n"
   ]
  },
  {
   "cell_type": "markdown",
   "metadata": {},
   "source": [
    "Now we have to repeat the process,(6,9)is incorrect therefore we swap 6 and 9 to get:"
   ]
  },
  {
   "cell_type": "markdown",
   "metadata": {},
   "source": [
    "[6,9,10,14,8,11,20,60]"
   ]
  },
  {
   "cell_type": "markdown",
   "metadata": {},
   "source": [
    "10 should not be on the left of 8. Swapping 10 and 8 gives:"
   ]
  },
  {
   "cell_type": "markdown",
   "metadata": {
    "collapsed": true
   },
   "source": [
    "[6,9,8,10,14,11,20,60]"
   ]
  },
  {
   "cell_type": "markdown",
   "metadata": {},
   "source": [
    "14 should not be on the left of 11. swapping 14 and 11 gives:"
   ]
  },
  {
   "cell_type": "markdown",
   "metadata": {
    "collapsed": true
   },
   "source": [
    "[6,9,8,10,11,14,20,60]"
   ]
  },
  {
   "cell_type": "markdown",
   "metadata": {},
   "source": [
    "### Bubble Sort – Explanation\n",
    "\n",
    "In the first “pass” through the array, the largest element will always get swapped until it is placed to the extreme right. This is because this largest element will always break the desired order. So, at the end of the first pass, the largest element will always reach its correct position."
   ]
  },
  {
   "cell_type": "markdown",
   "metadata": {},
   "source": [
    "## b)show the series of steps taken by the Selection Sort algorithm while sorting this list."
   ]
  },
  {
   "cell_type": "markdown",
   "metadata": {},
   "source": [
    "### Sorting Algorithms: Steps on how it works:\n",
    "\n",
    "Iterate over the unsorted list, keeping track of the minimum value as you go.\n",
    "When you get to the end of the list, you know which element is the minimum.\n",
    "Swap the minimum element and the first element in the unsorted list.\n",
    "The first element is now considered sorted.\n",
    "Repeat until the rest of the list is sorted.\n",
    "\n",
    "Below I apply the steps of Selection Sort:"
   ]
  },
  {
   "cell_type": "markdown",
   "metadata": {},
   "source": [
    "##### list = [9,20,6,10,14,8,60,11]"
   ]
  },
  {
   "cell_type": "markdown",
   "metadata": {},
   "source": [
    "// Find the minimum element in list[0...7]\n",
    "\n",
    "\n",
    "// and place it at beginning\n"
   ]
  },
  {
   "cell_type": "markdown",
   "metadata": {},
   "source": [
    "[6,9,20,10,14,8,60,11]"
   ]
  },
  {
   "cell_type": "markdown",
   "metadata": {},
   "source": [
    "// Find the minimum element in list[1...7]\n",
    "\n",
    "\n",
    "// and place it at beginning of list[1...7]\n"
   ]
  },
  {
   "cell_type": "markdown",
   "metadata": {},
   "source": [
    "[6,8,9,20,10,14,60,11]"
   ]
  },
  {
   "cell_type": "markdown",
   "metadata": {},
   "source": [
    "// Find the minimum element in list[2...7]\n",
    "\n",
    "\n",
    "// and place it at beginning of list[2...7]"
   ]
  },
  {
   "cell_type": "markdown",
   "metadata": {},
   "source": [
    "[6,8,9,20,10,14,60,11]"
   ]
  },
  {
   "cell_type": "markdown",
   "metadata": {},
   "source": [
    "// Find the minimum element in list[3...7]\n",
    "\n",
    "\n",
    "// and place it at beginning of list[3...7]"
   ]
  },
  {
   "cell_type": "markdown",
   "metadata": {},
   "source": [
    "[6,8,9,10,20,14,60,11]"
   ]
  },
  {
   "cell_type": "markdown",
   "metadata": {},
   "source": [
    "// Find the minimum element in list[4...7]\n",
    "\n",
    "\n",
    "// and place it at beginning of list[4...7]"
   ]
  },
  {
   "cell_type": "markdown",
   "metadata": {},
   "source": [
    "[6,8,9,10,11,20,14,60]"
   ]
  },
  {
   "cell_type": "markdown",
   "metadata": {},
   "source": [
    "// Find the minimum element in list[5...7]\n",
    "\n",
    "\n",
    "// and place it at beginning of list[5...7]"
   ]
  },
  {
   "cell_type": "markdown",
   "metadata": {},
   "source": [
    "[6,8,9,10,11,14,20,60]"
   ]
  },
  {
   "cell_type": "markdown",
   "metadata": {},
   "source": [
    "(Best using Improved Binary Search)\n",
    "\n",
    "1) Use Binary search to get index of the first occurrence of x in arr[]. Let the index of the first occurrence be i.\n",
    "\n",
    "2) Use Binary search to get index of the last occurrence of x in arr[]. Let the index of the last occurrence be j.\n",
    "\n",
    "3) Return (j – i + 1);"
   ]
  },
  {
   "cell_type": "code",
   "execution_count": 31,
   "metadata": {},
   "outputs": [],
   "source": [
    "# Python3 program to count \n",
    "# occurrences of an element \n",
    "\n",
    "# if x is present in arr[] then \n",
    "# returns the count of occurrences \n",
    "# of x, otherwise returns -1. \n",
    "def count(arr, x, n): \n",
    "\n",
    "    # get the index of first \n",
    "    # occurrence of x \n",
    "    i = first(arr, 0, n-1, x, n) \n",
    "\n",
    "    # If x doesn't exist in \n",
    "    # arr[] then return -1 \n",
    "    if i == -1: \n",
    "        return i \n",
    "    \n",
    "    # Else get the index of last occurrence \n",
    "    # of x. Note that we are only looking \n",
    "    # in the subarray after first occurrence \n",
    "    j = last(arr, i, n-1, x, n);\n",
    "    \n",
    "    # return count \n",
    "    return j-i+1; \n",
    "\n",
    "# if x is present in arr[] then return \n",
    "# the index of FIRST occurrence of x in \n",
    "# arr[0..n-1], otherwise returns -1 \n",
    "def first(arr, low, high, x, n): \n",
    "    if high >= low: \n",
    "\n",
    "        # low + (high - low)/2 \n",
    "        mid = (low + high)//2\n",
    "        \n",
    "    if (mid == 0 or x > arr[mid-1]) and arr[mid] == x: \n",
    "        return mid \n",
    "    elif x > arr[mid]: \n",
    "        return first(arr, (mid + 1), high, x, n) \n",
    "    else: \n",
    "        return first(arr, low, (mid -1), x, n) \n",
    "    return -1; \n",
    "\n",
    "# if x is present in arr[] then return \n",
    "# the index of LAST occurrence of x \n",
    "# in arr[0..n-1], otherwise returns -1 \n",
    "def last(arr, low, high, x, n): \n",
    "    if high >= low: \n",
    "\n",
    "        # low + (high - low)/2 \n",
    "        mid = (low + high)//2; \n",
    "\n",
    "    if(mid == n-1 or x < arr[mid+1]) and arr[mid] == x : \n",
    "        return mid \n",
    "    elif x < arr[mid]: \n",
    "        return last(arr, low, (mid -1), x, n) \n",
    "    else: \n",
    "        return last(arr, (mid + 1), high, x, n)\n",
    "    return -1\n",
    "\n"
   ]
  },
  {
   "cell_type": "code",
   "execution_count": null,
   "metadata": {
    "collapsed": true
   },
   "outputs": [],
   "source": []
  }
 ],
 "metadata": {
  "kernelspec": {
   "display_name": "Python 3",
   "language": "python",
   "name": "python3"
  },
  "language_info": {
   "codemirror_mode": {
    "name": "ipython",
    "version": 3
   },
   "file_extension": ".py",
   "mimetype": "text/x-python",
   "name": "python",
   "nbconvert_exporter": "python",
   "pygments_lexer": "ipython3",
   "version": "3.6.3"
  }
 },
 "nbformat": 4,
 "nbformat_minor": 2
}
