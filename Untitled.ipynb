{
 "cells": [
  {
   "cell_type": "markdown",
   "metadata": {},
   "source": [
    "# SEARCH AND SORT"
   ]
  },
  {
   "cell_type": "markdown",
   "metadata": {},
   "source": [
    "Sorting refers to arranging data in a particular format. Sorting algorithm specifies the way to arrange data in a particular order. Most common orders are in numerical or lexicographical order.\n",
    "\n",
    "The importance of sorting lies in the fact that data searching can be optimized to a very high level, if data is stored in a sorted manner. Sorting is also used to represent data in more readable formats. Below we see five such implementations of sorting in python.\n",
    "\n",
    "    Bubble Sort\n",
    "    Merge Sort\n",
    "    Insertion Sort\n",
    "    Shell Sort\n",
    "    Selection Sort\n",
    " \n"
   ]
  },
  {
   "cell_type": "markdown",
   "metadata": {},
   "source": [
    "## 1.Use the following sorted list of words to perform a binary search : list[ ] = ['babka','baklava','cheesecake','cupcake','danish','eclair','funnelcake','kringle','lamington','profiterole','sopaipilla','strudel','tiramisu','torte','turnover']"
   ]
  },
  {
   "cell_type": "markdown",
   "metadata": {},
   "source": [
    "## Binary_Search"
   ]
  },
  {
   "cell_type": "markdown",
   "metadata": {},
   "source": [
    "Here the list is divided into halves and then searched in each half. One notable thing about this binary search is that the list should be sorted first before executing the algorithm. The list is divided into two halves by the index, find the mid element of the list and then start to mid-1 is one list and mid+1 to end is another list, check if the element is mid, greater than it or less than it and return the appropriate position of the key element to be found."
   ]
  },
  {
   "cell_type": "code",
   "execution_count": 10,
   "metadata": {
    "collapsed": true
   },
   "outputs": [],
   "source": [
    "def binary_search(data, target):\n",
    "\n",
    "    items_length = len(data)\n",
    "    middle = int(items_length/2)\n",
    "    sample = data[middle]\n",
    "\n",
    "    if items_length == 1:\n",
    "        return -1\n",
    "\n",
    "    if sample == target:\n",
    "        return True\n",
    "\n",
    "    if target < sample:\n",
    "        return binary_search(data[:middle], target)\n",
    "    if target > sample:\n",
    "        return binary_search(data[middle:], target)\n",
    "\n",
    "    return -1"
   ]
  },
  {
   "cell_type": "markdown",
   "metadata": {},
   "source": [
    "### a)  What sequence of 'middle' values are compared to the target when performing a binary search with target doughnut?"
   ]
  },
  {
   "cell_type": "code",
   "execution_count": 11,
   "metadata": {},
   "outputs": [
    {
     "data": {
      "text/plain": [
       "-1"
      ]
     },
     "execution_count": 11,
     "metadata": {},
     "output_type": "execute_result"
    }
   ],
   "source": [
    "binary_search(['babka','baklava','cheesecake','cupcake','danish','eclair','funnelcake','kringle','lamington','profiterole','sopaipilla','strudel','tiramisu','torte','turnover'],'doughnut')"
   ]
  },
  {
   "cell_type": "markdown",
   "metadata": {},
   "source": [
    "### b)  What sequence of 'middle' values are compared to the target when performing a binary search with target tiramisu?"
   ]
  },
  {
   "cell_type": "code",
   "execution_count": 12,
   "metadata": {},
   "outputs": [
    {
     "data": {
      "text/plain": [
       "True"
      ]
     },
     "execution_count": 12,
     "metadata": {},
     "output_type": "execute_result"
    }
   ],
   "source": [
    "binary_search(['babka','baklava','cheesecake','cupcake','danish','eclair','funnelcake','kringle','lamington','profiterole','sopaipilla','strudel','tiramisu','torte','turnover'],'tiramisu')"
   ]
  },
  {
   "cell_type": "markdown",
   "metadata": {},
   "source": [
    "# Bubble Sort algorithm "
   ]
  },
  {
   "cell_type": "markdown",
   "metadata": {},
   "source": [
    "### Bubble Sort – Explanation\n",
    "\n",
    "In the first “pass” through the array, the largest element will always get swapped until it is placed to the extreme right. This is because this largest element will always break the desired order. So, at the end of the first pass, the largest element will always reach its correct position."
   ]
  },
  {
   "cell_type": "markdown",
   "metadata": {},
   "source": [
    "## a)show the series of steps taken by the Bubble Sort algorithm while sorting the list [9,20,6,10,14,8,60,11]. "
   ]
  },
  {
   "cell_type": "code",
   "execution_count": 6,
   "metadata": {
    "collapsed": true
   },
   "outputs": [],
   "source": [
    "def bubbleSort(arr):\n",
    "    n = len(arr)\n",
    " \n",
    "    # Traverse through all array elements\n",
    "    for i in range(n):\n",
    " \n",
    "        # Last i elements are already in place\n",
    "        for j in range(0, n-i-1):\n",
    " \n",
    "            # traverse the array from 0 to n-i-1\n",
    "            # Swap if the element found is greater\n",
    "            # than the next element\n",
    "            if arr[j] > arr[j+1] :\n",
    "                arr[j], arr[j+1] = arr[j+1], arr[j]"
   ]
  },
  {
   "cell_type": "code",
   "execution_count": 7,
   "metadata": {},
   "outputs": [
    {
     "name": "stdout",
     "output_type": "stream",
     "text": [
      "Sorted array is:\n",
      "6\n",
      "8\n",
      "9\n",
      "10\n",
      "11\n",
      "14\n",
      "20\n",
      "60\n"
     ]
    }
   ],
   "source": [
    "# Driver code to test above\n",
    "arr = [9, 20, 6, 10, 14, 8, 60, 11]\n",
    " \n",
    "bubbleSort(arr)\n",
    " \n",
    "print (\"Sorted array is:\")\n",
    "for i in range(len(arr)):\n",
    "    print (\"%d\" %arr[i]), "
   ]
  },
  {
   "cell_type": "markdown",
   "metadata": {},
   "source": [
    "### list = [9,20,6,10,14,8,60,11]"
   ]
  },
  {
   "cell_type": "markdown",
   "metadata": {},
   "source": [
    "Bubble Sort is a sorting algorithm where we repeatedly iterate through the list and swap adjacent elements that are unordered. We repeat this until the list is sorted."
   ]
  },
  {
   "cell_type": "markdown",
   "metadata": {},
   "source": [
    "FIRST PASS\n",
    "\n",
    "### --------------------------------->"
   ]
  },
  {
   "cell_type": "markdown",
   "metadata": {},
   "source": [
    "We can see that 20 should not be on the left of 6. We swap 20 and 6 to get:"
   ]
  },
  {
   "cell_type": "markdown",
   "metadata": {},
   "source": [
    "### [9,6,20,10,14,8,60,11] "
   ]
  },
  {
   "cell_type": "markdown",
   "metadata": {},
   "source": [
    "We see that 20 should not be on the left of 10. We swap 20 and 10 to get:"
   ]
  },
  {
   "cell_type": "markdown",
   "metadata": {},
   "source": [
    "\n",
    "### [9,6,10,20,14,8,60,11] \n"
   ]
  },
  {
   "cell_type": "markdown",
   "metadata": {},
   "source": [
    "We can see that 20 should again not be on the left of 14. We swap 20 and 14 to get:"
   ]
  },
  {
   "cell_type": "markdown",
   "metadata": {},
   "source": [
    "\n",
    "### [9,6,10,14,20,8,60,11]\n"
   ]
  },
  {
   "cell_type": "markdown",
   "metadata": {},
   "source": [
    "20 should not be on the left of 8. Swap 20 and 8 gives:"
   ]
  },
  {
   "cell_type": "markdown",
   "metadata": {},
   "source": [
    "\n",
    "### [9,6,10,14,8,20,60,11]"
   ]
  },
  {
   "cell_type": "markdown",
   "metadata": {},
   "source": [
    "60 should not be on the left of 11. Swapping 60 and 11 gives:"
   ]
  },
  {
   "cell_type": "markdown",
   "metadata": {},
   "source": [
    "### [9,6,10,14,8,20,11,60]"
   ]
  },
  {
   "cell_type": "markdown",
   "metadata": {},
   "source": [
    "As can be seen-the largest element (60 in this case) has reached its correct position-extreme right."
   ]
  },
  {
   "cell_type": "markdown",
   "metadata": {},
   "source": [
    "\n",
    "### [9,6,10,14,8,11,20,60]\n"
   ]
  },
  {
   "cell_type": "markdown",
   "metadata": {},
   "source": [
    "Now we have to repeat the process,(6,9)is incorrect therefore we swap 6 and 9 to get:"
   ]
  },
  {
   "cell_type": "markdown",
   "metadata": {},
   "source": [
    "### [6,9,10,14,8,11,20,60]"
   ]
  },
  {
   "cell_type": "markdown",
   "metadata": {},
   "source": [
    "10 should not be on the left of 8. Swapping 10 and 8 gives:"
   ]
  },
  {
   "cell_type": "markdown",
   "metadata": {
    "collapsed": true
   },
   "source": [
    "### [6,9,8,10,14,11,20,60]"
   ]
  },
  {
   "cell_type": "markdown",
   "metadata": {},
   "source": [
    "14 should not be on the left of 11. swapping 14 and 11 gives:"
   ]
  },
  {
   "cell_type": "markdown",
   "metadata": {
    "collapsed": true
   },
   "source": [
    "### [6,9,8,10,11,14,20,60]"
   ]
  },
  {
   "cell_type": "markdown",
   "metadata": {},
   "source": [
    "## b)show the series of steps taken by the Selection Sort algorithm while sorting this list."
   ]
  },
  {
   "cell_type": "markdown",
   "metadata": {},
   "source": [
    "### Sorting Algorithms: Steps on how it works:\n",
    "\n",
    "Iterate over the unsorted list, keeping track of the minimum value as you go.\n",
    "When you get to the end of the list, you know which element is the minimum.\n",
    "Swap the minimum element and the first element in the unsorted list.\n",
    "The first element is now considered sorted.\n",
    "Repeat until the rest of the list is sorted.\n",
    "\n",
    "Below I apply the steps of Selection Sort:"
   ]
  },
  {
   "cell_type": "markdown",
   "metadata": {},
   "source": [
    "### list = [9,20,6,10,14,8,60,11]"
   ]
  },
  {
   "cell_type": "markdown",
   "metadata": {},
   "source": [
    "Find the minimum element in list[0...7]\n",
    "\n",
    "and place it at beginning\n"
   ]
  },
  {
   "cell_type": "markdown",
   "metadata": {},
   "source": [
    "### [6,9,20,10,14,8,60,11]"
   ]
  },
  {
   "cell_type": "markdown",
   "metadata": {},
   "source": [
    "Find the minimum element in list[1...7]\n",
    "\n",
    "and place it at beginning of list[1...7]\n"
   ]
  },
  {
   "cell_type": "markdown",
   "metadata": {},
   "source": [
    "### [6,8,9,20,10,14,60,11]"
   ]
  },
  {
   "cell_type": "markdown",
   "metadata": {},
   "source": [
    "Find the minimum element in list[2...7]\n",
    "\n",
    "and place it at beginning of list[2...7]"
   ]
  },
  {
   "cell_type": "markdown",
   "metadata": {},
   "source": [
    "### [6,8,9,20,10,14,60,11]"
   ]
  },
  {
   "cell_type": "markdown",
   "metadata": {},
   "source": [
    "Find the minimum element in list[3...7]\n",
    "\n",
    "and place it at beginning of list[3...7]"
   ]
  },
  {
   "cell_type": "markdown",
   "metadata": {},
   "source": [
    "### [6,8,9,10,20,14,60,11]"
   ]
  },
  {
   "cell_type": "markdown",
   "metadata": {},
   "source": [
    "Find the minimum element in list[4...7]\n",
    "\n",
    "and place it at beginning of list[4...7]"
   ]
  },
  {
   "cell_type": "markdown",
   "metadata": {},
   "source": [
    "### [6,8,9,10,11,20,14,60]"
   ]
  },
  {
   "cell_type": "markdown",
   "metadata": {},
   "source": [
    "Find the minimum element in list[5...7]\n",
    "\n",
    "and place it at beginning of list[5...7]"
   ]
  },
  {
   "cell_type": "markdown",
   "metadata": {},
   "source": [
    "### [6,8,9,10,11,14,20,60]"
   ]
  },
  {
   "cell_type": "markdown",
   "metadata": {},
   "source": [
    "# The three search algorithms have varying run times, with the unsorted sequential search being the least efficient and the binary search being the most efficient (among the three).\n",
    "\n",
    "a) Modify the code for the seq_search.py (for unsorted lists), seq_search_ordered.py and binary_search.py to count the number of elements checked during the search. b) Using your instrumented code for the three search algorithms, perform the following searches, and report the number of elements checked by each algorithm for each search (i.e. you will report nine results in total - for each of the 3 searches below, you will report the results from the 3 different search algorithms)."
   ]
  },
  {
   "cell_type": "code",
   "execution_count": 27,
   "metadata": {},
   "outputs": [
    {
     "name": "stdout",
     "output_type": "stream",
     "text": [
      "17 elements checked\n",
      "True\n"
     ]
    }
   ],
   "source": [
    "def linear_search(values, search_for):\n",
    "    search_at = 0\n",
    "    search_res = False\n",
    "    count = 0\n",
    "\n",
    "# Match the value with each data element\n",
    "    while search_at < len(values) and search_res is False:\n",
    "        if values[search_at] == search_for:\n",
    "            search_res = True\n",
    "        else:\n",
    "            search_at = search_at + 1\n",
    "        count += 1\n",
    "    print(count , \"elements checked\")\n",
    "\n",
    "    return search_res\n",
    "list = [6, 19, -3, 5, 12, 7, 21, -8, 25, 10, 0, 28, -6, 1, 33, 18, 9, 2, -13, 43]\n",
    "print(linear_search(list, 9)) #should return True\n"
   ]
  },
  {
   "cell_type": "code",
   "execution_count": 28,
   "metadata": {
    "collapsed": true
   },
   "outputs": [],
   "source": [
    "list = [6, 19, -3, 5, 12, 7, 21, -8, 25, 10, 0, 28, -6, 1, 33, 18, 9, 2, -13, 43]"
   ]
  },
  {
   "cell_type": "code",
   "execution_count": 29,
   "metadata": {},
   "outputs": [
    {
     "name": "stdout",
     "output_type": "stream",
     "text": [
      "20 elements checked\n",
      "False\n"
     ]
    }
   ],
   "source": [
    "print(linear_search(list, 11)) #should return False"
   ]
  },
  {
   "cell_type": "code",
   "execution_count": 30,
   "metadata": {
    "collapsed": true
   },
   "outputs": [],
   "source": [
    "a = [6, 19, -3, 5, 12, 7, 21, -8, 25, 10, 0, 28, -6, 1, 33, 18, 9, 2, -13, 43, -15, 4, 22, 38, -5, 13, 23, -11, 29, -20, 41, 31, -23, 35, 40, 14, 8, -18, 16, 36]"
   ]
  },
  {
   "cell_type": "code",
   "execution_count": 32,
   "metadata": {},
   "outputs": [
    {
     "name": "stdout",
     "output_type": "stream",
     "text": [
      "40 elements checked\n",
      "False\n"
     ]
    }
   ],
   "source": [
    "print(linear_search(a, 11)) #should return False"
   ]
  },
  {
   "cell_type": "code",
   "execution_count": 47,
   "metadata": {},
   "outputs": [
    {
     "name": "stdout",
     "output_type": "stream",
     "text": [
      "17 elements checked\n",
      "True\n"
     ]
    }
   ],
   "source": [
    "def orderedSequentialSearch(alist, item):\n",
    "    pos = 0\n",
    "    found = False\n",
    "    stop = False\n",
    "    count = 0\n",
    "\n",
    "    while pos < len(alist) and not found and not stop:\n",
    "        if alist[pos] == item:\n",
    "            found = True\n",
    "        else:\n",
    "            if alist[pos] > item:\n",
    "                stop = True\n",
    "            else:\n",
    "                pos = pos+1\n",
    "        count += 1\n",
    "    print(count , \"elements checked\")\n",
    "    return found\n",
    "\n",
    "list = [6, 19, -3, 5, 12, 7, 21, -8, 25, 10, 0, 28, -6, 1, 33, 18, 9, 2, -13, 43]\n",
    "print(linear_search(list, 9)) #should return True"
   ]
  },
  {
   "cell_type": "code",
   "execution_count": 42,
   "metadata": {},
   "outputs": [
    {
     "name": "stdout",
     "output_type": "stream",
     "text": [
      "2 elements checked\n",
      "False\n"
     ]
    }
   ],
   "source": [
    "list = [6, 19, -3, 5, 12, 7, 21, -8, 25, 10, 0, 28, -6, 1, 33, 18, 9, 2, -13, 43]\n",
    "print(orderedSequentialSearch(list, 11)) #should return False"
   ]
  },
  {
   "cell_type": "code",
   "execution_count": 43,
   "metadata": {},
   "outputs": [
    {
     "name": "stdout",
     "output_type": "stream",
     "text": [
      "2 elements checked\n",
      "False\n"
     ]
    }
   ],
   "source": [
    "a =[6, 19, -3, 5, 12, 7, 21, -8, 25, 10, 0, 28, -6, 1, 33, 18, 9, 2, -13, 43, -15, 4, 22, 38, -5, 13, 23, -11, 29, -20, 41, 31, -23, 35, 40, 14, 8, -18, 16, 36]\n",
    "print(orderedSequentialSearch(list, 11)) #should return False"
   ]
  },
  {
   "cell_type": "code",
   "execution_count": null,
   "metadata": {
    "collapsed": true
   },
   "outputs": [],
   "source": []
  }
 ],
 "metadata": {
  "kernelspec": {
   "display_name": "Python 3",
   "language": "python",
   "name": "python3"
  },
  "language_info": {
   "codemirror_mode": {
    "name": "ipython",
    "version": 3
   },
   "file_extension": ".py",
   "mimetype": "text/x-python",
   "name": "python",
   "nbconvert_exporter": "python",
   "pygments_lexer": "ipython3",
   "version": "3.6.3"
  }
 },
 "nbformat": 4,
 "nbformat_minor": 2
}
